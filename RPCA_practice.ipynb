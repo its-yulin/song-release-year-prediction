{
 "cells": [
  {
   "cell_type": "code",
   "execution_count": null,
   "metadata": {
    "collapsed": true
   },
   "outputs": [],
   "source": [
    "from sklearn.ensemble import RandomForestClassifier\n",
    "from sklearn.metrics import confusion_matrix, f1_score, accuracy_score\n",
    "import pandas as pd\n",
    "import numpy as np\n",
    "from sklearn.model_selection import train_test_split"
   ]
  },
  {
   "cell_type": "code",
   "execution_count": null,
   "outputs": [],
   "source": [
    "X = pd.read_csv('X_rpca.csv').to_numpy()\n",
    "Y = pd.read_csv('Y_pca.csv').to_numpy()\n",
    "\n",
    "Y = Y[:,1]\n",
    "print(Y)\n",
    "\n",
    "model = RandomForestClassifier(n_estimators=300)\n",
    "xtrain, xtest, ytrain, ytest = train_test_split(X, np.ravel(Y),\n",
    "                     test_size=0.2,\n",
    "                     shuffle=True)\n",
    "print(\"test\")\n",
    "\n",
    "model.fit(xtrain, ytrain)\n",
    "prediction = model.predict(xtest)\n",
    "print(accuracy_score(ytest, prediction))\n",
    "print(np.sqrt(np.mean(np.absolute(ytest - prediction)^2)))"
   ],
   "metadata": {
    "collapsed": false
   }
  }
 ],
 "metadata": {
  "kernelspec": {
   "display_name": "Python 3",
   "language": "python",
   "name": "python3"
  },
  "language_info": {
   "codemirror_mode": {
    "name": "ipython",
    "version": 2
   },
   "file_extension": ".py",
   "mimetype": "text/x-python",
   "name": "python",
   "nbconvert_exporter": "python",
   "pygments_lexer": "ipython2",
   "version": "2.7.6"
  }
 },
 "nbformat": 4,
 "nbformat_minor": 0
}

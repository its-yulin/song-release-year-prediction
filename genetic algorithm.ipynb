{
 "cells": [
  {
   "cell_type": "code",
   "execution_count": 1,
   "metadata": {
    "collapsed": true
   },
   "outputs": [],
   "source": [
    "import numpy as np\n",
    "import pandas as pd\n",
    "import seaborn as sns\n",
    "import matplotlib.pyplot as plt\n",
    "from random import randint\n",
    "%matplotlib inline\n",
    "import warnings\n",
    "warnings.filterwarnings(\"ignore\")\n",
    "\n",
    "from sklearn.model_selection import train_test_split\n",
    "def split(df,label):\n",
    "    X_tr, X_te, Y_tr, Y_te = train_test_split(df, label, test_size=0.25, random_state=42)\n",
    "    return X_tr, X_te, Y_tr, Y_te\n",
    "\n",
    "from sklearn import svm\n",
    "from sklearn.linear_model import LogisticRegression\n",
    "from sklearn.ensemble import RandomForestClassifier, AdaBoostClassifier\n",
    "from sklearn.tree import DecisionTreeClassifier\n",
    "from sklearn.neighbors import KNeighborsClassifier\n",
    "from sklearn.ensemble import GradientBoostingClassifier\n",
    "from sklearn import metrics\n",
    "from sklearn.metrics import accuracy_score\n",
    "from sklearn.model_selection import KFold, cross_val_score\n",
    "\n",
    "\n",
    "classifiers = ['LinearSVM', 'RadialSVM',\n",
    "               'Logistic',  'RandomForest',\n",
    "               'AdaBoost',  'DecisionTree',\n",
    "               'KNeighbors','GradientBoosting']\n",
    "\n",
    "models = [svm.SVC(kernel='linear'),\n",
    "          svm.SVC(kernel='rbf'),\n",
    "          LogisticRegression(max_iter = 1000),\n",
    "          RandomForestClassifier(n_estimators=200, random_state=0),\n",
    "          AdaBoostClassifier(random_state = 0),\n",
    "          DecisionTreeClassifier(random_state=0),\n",
    "          KNeighborsClassifier(),\n",
    "          GradientBoostingClassifier(random_state=0)]\n",
    "models = [DecisionTreeClassifier(random_state=0)] #test dt\n",
    "def acc_score(df,label):\n",
    "    Score = pd.DataFrame({\"Classifier\":classifiers})\n",
    "    j = 0\n",
    "    acc = []\n",
    "    X_train,X_test,Y_train,Y_test = split(df,label)\n",
    "    for i in models:\n",
    "        model = i\n",
    "        model.fit(X_train,Y_train)\n",
    "        predictions = model.predict(X_test)\n",
    "        acc.append(accuracy_score(Y_test,predictions))\n",
    "        j = j+1\n",
    "    Score[\"Accuracy\"] = acc\n",
    "    Score.sort_values(by=\"Accuracy\", ascending=False,inplace = True)\n",
    "    Score.reset_index(drop=True, inplace=True)\n",
    "    return Score\n",
    "\n",
    "def plot(score,x,y,c = \"b\"):\n",
    "    gen = [1,2,3,4,5]\n",
    "    plt.figure(figsize=(6,4))\n",
    "    ax = sns.pointplot(x=gen, y=score,color = c )\n",
    "    ax.set(xlabel=\"Generation\", ylabel=\"Accuracy\")\n",
    "    ax.set(ylim=(x,y))"
   ]
  },
  {
   "cell_type": "code",
   "execution_count": 2,
   "outputs": [],
   "source": [
    "# Adapted Version\n",
    "def initialization_of_population(size, n_feat):\n",
    "    population = np.random.rand(size, n_feat) < 0.3\n",
    "    return population.astype(np.bool_)\n",
    "\n",
    "def fitness_score(population):\n",
    "    scores = []\n",
    "    for chromosome in population:\n",
    "        logmodel.fit(X_train.iloc[:,chromosome],Y_train)\n",
    "        predictions = logmodel.predict(X_test.iloc[:,chromosome])\n",
    "        score = accuracy_score(Y_test,predictions)\n",
    "        scores.append((score, chromosome))\n",
    "    sorted_array = sorted(scores, key=lambda x: x[0],reverse = True)\n",
    "    sorted_scores, sorted_population = zip(*sorted_array)\n",
    "    return list(sorted_scores), list(sorted_population)\n",
    "\n",
    "def selection(sorted_population,parent_chromosome_number):\n",
    "    next_generation_population = []\n",
    "    for i in range(parent_chromosome_number):\n",
    "        next_generation_population.append(sorted_population[i])\n",
    "    return next_generation_population\n",
    "\n",
    "def crossover(parent_population):\n",
    "    next_generation_population = []\n",
    "    next_generation_population.extend(parent_population)\n",
    "    for i in range(0,len(parent_population),2):\n",
    "        new_chromosome = []\n",
    "        child_1 = parent_population[i]\n",
    "        child_2 = parent_population[i+1]\n",
    "        crossover_point = len(child_1)//2\n",
    "        new_chromosome = np.concatenate((child_1[:crossover_point],child_2[crossover_point:]))\n",
    "        next_generation_population.append(new_chromosome)\n",
    "    return next_generation_population\n",
    "\n",
    "def mutation(population, mutation_rate,n_feat):\n",
    "    next_generation_population = []\n",
    "    mutation_number = int(mutation_rate*n_feat)\n",
    "    for index,chromosome in enumerate(population):\n",
    "        if index == 0:\n",
    "            next_generation_population.append(chromosome)\n",
    "            continue\n",
    "        mutation_position = []\n",
    "        new_chromosome = chromosome.copy()\n",
    "        for i in range(0,mutation_number):\n",
    "            position = randint(0,n_feat-1)\n",
    "            mutation_position.append(position)\n",
    "        for pos in mutation_position:\n",
    "            new_chromosome[pos] = not chromosome[pos]\n",
    "        next_generation_population.append(new_chromosome)\n",
    "    return next_generation_population\n",
    "\n",
    "\n",
    "def generations(df,label,size,n_feat,n_parents,mutation_rate,n_gen,X_train, X_test, Y_train, Y_test):\n",
    "    best_chromo= []\n",
    "    best_score= []\n",
    "    population_nextgen=initialization_of_population(size,n_feat)\n",
    "    for i in range(n_gen):\n",
    "        scores, pop_after_fit = fitness_score(population_nextgen)\n",
    "        print('Best score in generation',i+1,':',scores[0])\n",
    "        pop_after_sel = selection(pop_after_fit,n_parents)\n",
    "        pop_after_cross = crossover(pop_after_sel)\n",
    "        population_nextgen = mutation(pop_after_cross,mutation_rate,n_feat)\n",
    "        best_chromo.append(pop_after_fit[0])\n",
    "        best_score.append(scores[0])\n",
    "    return best_chromo,best_score\n"
   ],
   "metadata": {
    "collapsed": false
   }
  },
  {
   "cell_type": "code",
   "execution_count": 3,
   "outputs": [
    {
     "name": "stdout",
     "output_type": "stream",
     "text": [
      "Breast Cancer dataset:\n",
      " 569 Records\n",
      " 30 Features\n"
     ]
    },
    {
     "ename": "ValueError",
     "evalue": "Length of values (1) does not match length of index (8)",
     "output_type": "error",
     "traceback": [
      "\u001B[0;31m---------------------------------------------------------------------------\u001B[0m",
      "\u001B[0;31mValueError\u001B[0m                                Traceback (most recent call last)",
      "Cell \u001B[0;32mIn[3], line 7\u001B[0m\n\u001B[1;32m      4\u001B[0m data_bc\u001B[38;5;241m.\u001B[39mdrop([\u001B[38;5;124m\"\u001B[39m\u001B[38;5;124mid\u001B[39m\u001B[38;5;124m\"\u001B[39m,\u001B[38;5;124m\"\u001B[39m\u001B[38;5;124mdiagnosis\u001B[39m\u001B[38;5;124m\"\u001B[39m,\u001B[38;5;124m\"\u001B[39m\u001B[38;5;124mUnnamed: 32\u001B[39m\u001B[38;5;124m\"\u001B[39m],axis \u001B[38;5;241m=\u001B[39m \u001B[38;5;241m1\u001B[39m,inplace \u001B[38;5;241m=\u001B[39m \u001B[38;5;28;01mTrue\u001B[39;00m)\n\u001B[1;32m      6\u001B[0m \u001B[38;5;28mprint\u001B[39m(\u001B[38;5;124m\"\u001B[39m\u001B[38;5;124mBreast Cancer dataset:\u001B[39m\u001B[38;5;130;01m\\n\u001B[39;00m\u001B[38;5;124m\"\u001B[39m,data_bc\u001B[38;5;241m.\u001B[39mshape[\u001B[38;5;241m0\u001B[39m],\u001B[38;5;124m\"\u001B[39m\u001B[38;5;124mRecords\u001B[39m\u001B[38;5;130;01m\\n\u001B[39;00m\u001B[38;5;124m\"\u001B[39m,data_bc\u001B[38;5;241m.\u001B[39mshape[\u001B[38;5;241m1\u001B[39m],\u001B[38;5;124m\"\u001B[39m\u001B[38;5;124mFeatures\u001B[39m\u001B[38;5;124m\"\u001B[39m)\n\u001B[0;32m----> 7\u001B[0m score1 \u001B[38;5;241m=\u001B[39m \u001B[43macc_score\u001B[49m\u001B[43m(\u001B[49m\u001B[43mdata_bc\u001B[49m\u001B[43m,\u001B[49m\u001B[43mlabel_bc\u001B[49m\u001B[43m)\u001B[49m\n\u001B[1;32m      8\u001B[0m score1\n",
      "Cell \u001B[0;32mIn[1], line 51\u001B[0m, in \u001B[0;36macc_score\u001B[0;34m(df, label)\u001B[0m\n\u001B[1;32m     49\u001B[0m     acc\u001B[38;5;241m.\u001B[39mappend(accuracy_score(Y_test,predictions))\n\u001B[1;32m     50\u001B[0m     j \u001B[38;5;241m=\u001B[39m j\u001B[38;5;241m+\u001B[39m\u001B[38;5;241m1\u001B[39m\n\u001B[0;32m---> 51\u001B[0m \u001B[43mScore\u001B[49m\u001B[43m[\u001B[49m\u001B[38;5;124;43m\"\u001B[39;49m\u001B[38;5;124;43mAccuracy\u001B[39;49m\u001B[38;5;124;43m\"\u001B[39;49m\u001B[43m]\u001B[49m \u001B[38;5;241m=\u001B[39m acc\n\u001B[1;32m     52\u001B[0m Score\u001B[38;5;241m.\u001B[39msort_values(by\u001B[38;5;241m=\u001B[39m\u001B[38;5;124m\"\u001B[39m\u001B[38;5;124mAccuracy\u001B[39m\u001B[38;5;124m\"\u001B[39m, ascending\u001B[38;5;241m=\u001B[39m\u001B[38;5;28;01mFalse\u001B[39;00m,inplace \u001B[38;5;241m=\u001B[39m \u001B[38;5;28;01mTrue\u001B[39;00m)\n\u001B[1;32m     53\u001B[0m Score\u001B[38;5;241m.\u001B[39mreset_index(drop\u001B[38;5;241m=\u001B[39m\u001B[38;5;28;01mTrue\u001B[39;00m, inplace\u001B[38;5;241m=\u001B[39m\u001B[38;5;28;01mTrue\u001B[39;00m)\n",
      "File \u001B[0;32m~/Desktop/cs334 research/venv/lib/python3.10/site-packages/pandas/core/frame.py:3959\u001B[0m, in \u001B[0;36mDataFrame.__setitem__\u001B[0;34m(self, key, value)\u001B[0m\n\u001B[1;32m   3956\u001B[0m     \u001B[38;5;28mself\u001B[39m\u001B[38;5;241m.\u001B[39m_setitem_array([key], value)\n\u001B[1;32m   3957\u001B[0m \u001B[38;5;28;01melse\u001B[39;00m:\n\u001B[1;32m   3958\u001B[0m     \u001B[38;5;66;03m# set column\u001B[39;00m\n\u001B[0;32m-> 3959\u001B[0m     \u001B[38;5;28;43mself\u001B[39;49m\u001B[38;5;241;43m.\u001B[39;49m\u001B[43m_set_item\u001B[49m\u001B[43m(\u001B[49m\u001B[43mkey\u001B[49m\u001B[43m,\u001B[49m\u001B[43m \u001B[49m\u001B[43mvalue\u001B[49m\u001B[43m)\u001B[49m\n",
      "File \u001B[0;32m~/Desktop/cs334 research/venv/lib/python3.10/site-packages/pandas/core/frame.py:4152\u001B[0m, in \u001B[0;36mDataFrame._set_item\u001B[0;34m(self, key, value)\u001B[0m\n\u001B[1;32m   4142\u001B[0m \u001B[38;5;28;01mdef\u001B[39;00m \u001B[38;5;21m_set_item\u001B[39m(\u001B[38;5;28mself\u001B[39m, key, value) \u001B[38;5;241m-\u001B[39m\u001B[38;5;241m>\u001B[39m \u001B[38;5;28;01mNone\u001B[39;00m:\n\u001B[1;32m   4143\u001B[0m \u001B[38;5;250m    \u001B[39m\u001B[38;5;124;03m\"\"\"\u001B[39;00m\n\u001B[1;32m   4144\u001B[0m \u001B[38;5;124;03m    Add series to DataFrame in specified column.\u001B[39;00m\n\u001B[1;32m   4145\u001B[0m \n\u001B[0;32m   (...)\u001B[0m\n\u001B[1;32m   4150\u001B[0m \u001B[38;5;124;03m    ensure homogeneity.\u001B[39;00m\n\u001B[1;32m   4151\u001B[0m \u001B[38;5;124;03m    \"\"\"\u001B[39;00m\n\u001B[0;32m-> 4152\u001B[0m     value \u001B[38;5;241m=\u001B[39m \u001B[38;5;28;43mself\u001B[39;49m\u001B[38;5;241;43m.\u001B[39;49m\u001B[43m_sanitize_column\u001B[49m\u001B[43m(\u001B[49m\u001B[43mvalue\u001B[49m\u001B[43m)\u001B[49m\n\u001B[1;32m   4154\u001B[0m     \u001B[38;5;28;01mif\u001B[39;00m (\n\u001B[1;32m   4155\u001B[0m         key \u001B[38;5;129;01min\u001B[39;00m \u001B[38;5;28mself\u001B[39m\u001B[38;5;241m.\u001B[39mcolumns\n\u001B[1;32m   4156\u001B[0m         \u001B[38;5;129;01mand\u001B[39;00m value\u001B[38;5;241m.\u001B[39mndim \u001B[38;5;241m==\u001B[39m \u001B[38;5;241m1\u001B[39m\n\u001B[1;32m   4157\u001B[0m         \u001B[38;5;129;01mand\u001B[39;00m \u001B[38;5;129;01mnot\u001B[39;00m is_extension_array_dtype(value)\n\u001B[1;32m   4158\u001B[0m     ):\n\u001B[1;32m   4159\u001B[0m         \u001B[38;5;66;03m# broadcast across multiple columns if necessary\u001B[39;00m\n\u001B[1;32m   4160\u001B[0m         \u001B[38;5;28;01mif\u001B[39;00m \u001B[38;5;129;01mnot\u001B[39;00m \u001B[38;5;28mself\u001B[39m\u001B[38;5;241m.\u001B[39mcolumns\u001B[38;5;241m.\u001B[39mis_unique \u001B[38;5;129;01mor\u001B[39;00m \u001B[38;5;28misinstance\u001B[39m(\u001B[38;5;28mself\u001B[39m\u001B[38;5;241m.\u001B[39mcolumns, MultiIndex):\n",
      "File \u001B[0;32m~/Desktop/cs334 research/venv/lib/python3.10/site-packages/pandas/core/frame.py:4878\u001B[0m, in \u001B[0;36mDataFrame._sanitize_column\u001B[0;34m(self, value)\u001B[0m\n\u001B[1;32m   4875\u001B[0m     \u001B[38;5;28;01mreturn\u001B[39;00m _reindex_for_setitem(Series(value), \u001B[38;5;28mself\u001B[39m\u001B[38;5;241m.\u001B[39mindex)\n\u001B[1;32m   4877\u001B[0m \u001B[38;5;28;01mif\u001B[39;00m is_list_like(value):\n\u001B[0;32m-> 4878\u001B[0m     \u001B[43mcom\u001B[49m\u001B[38;5;241;43m.\u001B[39;49m\u001B[43mrequire_length_match\u001B[49m\u001B[43m(\u001B[49m\u001B[43mvalue\u001B[49m\u001B[43m,\u001B[49m\u001B[43m \u001B[49m\u001B[38;5;28;43mself\u001B[39;49m\u001B[38;5;241;43m.\u001B[39;49m\u001B[43mindex\u001B[49m\u001B[43m)\u001B[49m\n\u001B[1;32m   4879\u001B[0m \u001B[38;5;28;01mreturn\u001B[39;00m sanitize_array(value, \u001B[38;5;28mself\u001B[39m\u001B[38;5;241m.\u001B[39mindex, copy\u001B[38;5;241m=\u001B[39m\u001B[38;5;28;01mTrue\u001B[39;00m, allow_2d\u001B[38;5;241m=\u001B[39m\u001B[38;5;28;01mTrue\u001B[39;00m)\n",
      "File \u001B[0;32m~/Desktop/cs334 research/venv/lib/python3.10/site-packages/pandas/core/common.py:576\u001B[0m, in \u001B[0;36mrequire_length_match\u001B[0;34m(data, index)\u001B[0m\n\u001B[1;32m    572\u001B[0m \u001B[38;5;250m\u001B[39m\u001B[38;5;124;03m\"\"\"\u001B[39;00m\n\u001B[1;32m    573\u001B[0m \u001B[38;5;124;03mCheck the length of data matches the length of the index.\u001B[39;00m\n\u001B[1;32m    574\u001B[0m \u001B[38;5;124;03m\"\"\"\u001B[39;00m\n\u001B[1;32m    575\u001B[0m \u001B[38;5;28;01mif\u001B[39;00m \u001B[38;5;28mlen\u001B[39m(data) \u001B[38;5;241m!=\u001B[39m \u001B[38;5;28mlen\u001B[39m(index):\n\u001B[0;32m--> 576\u001B[0m     \u001B[38;5;28;01mraise\u001B[39;00m \u001B[38;5;167;01mValueError\u001B[39;00m(\n\u001B[1;32m    577\u001B[0m         \u001B[38;5;124m\"\u001B[39m\u001B[38;5;124mLength of values \u001B[39m\u001B[38;5;124m\"\u001B[39m\n\u001B[1;32m    578\u001B[0m         \u001B[38;5;124mf\u001B[39m\u001B[38;5;124m\"\u001B[39m\u001B[38;5;124m(\u001B[39m\u001B[38;5;132;01m{\u001B[39;00m\u001B[38;5;28mlen\u001B[39m(data)\u001B[38;5;132;01m}\u001B[39;00m\u001B[38;5;124m) \u001B[39m\u001B[38;5;124m\"\u001B[39m\n\u001B[1;32m    579\u001B[0m         \u001B[38;5;124m\"\u001B[39m\u001B[38;5;124mdoes not match length of index \u001B[39m\u001B[38;5;124m\"\u001B[39m\n\u001B[1;32m    580\u001B[0m         \u001B[38;5;124mf\u001B[39m\u001B[38;5;124m\"\u001B[39m\u001B[38;5;124m(\u001B[39m\u001B[38;5;132;01m{\u001B[39;00m\u001B[38;5;28mlen\u001B[39m(index)\u001B[38;5;132;01m}\u001B[39;00m\u001B[38;5;124m)\u001B[39m\u001B[38;5;124m\"\u001B[39m\n\u001B[1;32m    581\u001B[0m     )\n",
      "\u001B[0;31mValueError\u001B[0m: Length of values (1) does not match length of index (8)"
     ]
    }
   ],
   "source": [
    "data_bc = pd.read_csv(\"sample_data/data.csv\")\n",
    "label_bc = data_bc[\"diagnosis\"]\n",
    "label_bc = np.where(label_bc == 'M',1,0)\n",
    "data_bc.drop([\"id\",\"diagnosis\",\"Unnamed: 32\"],axis = 1,inplace = True)\n",
    "\n",
    "print(\"Breast Cancer dataset:\\n\",data_bc.shape[0],\"Records\\n\",data_bc.shape[1],\"Features\")\n",
    "score1 = acc_score(data_bc,label_bc)\n",
    "score1"
   ],
   "metadata": {
    "collapsed": false
   }
  },
  {
   "cell_type": "code",
   "execution_count": 4,
   "outputs": [
    {
     "name": "stdout",
     "output_type": "stream",
     "text": [
      "Best score in generation 1 : 0.9790209790209791\n",
      "Best score in generation 2 : 0.9790209790209791\n",
      "Best score in generation 3 : 0.9790209790209791\n",
      "Best score in generation 4 : 0.9790209790209791\n",
      "Best score in generation 5 : 0.9790209790209791\n",
      "Best score in generation 6 : 0.9790209790209791\n",
      "Best score in generation 7 : 0.9790209790209791\n",
      "Best score in generation 8 : 0.9790209790209791\n",
      "Best score in generation 9 : 0.9790209790209791\n",
      "Best score in generation 10 : 0.9790209790209791\n",
      "Best score in generation 11 : 0.9790209790209791\n",
      "Best score in generation 12 : 0.9790209790209791\n",
      "Best score in generation 13 : 0.993006993006993\n",
      "Best score in generation 14 : 0.993006993006993\n",
      "Best score in generation 15 : 0.993006993006993\n",
      "Best score in generation 16 : 0.993006993006993\n",
      "Best score in generation 17 : 0.993006993006993\n",
      "Best score in generation 18 : 0.993006993006993\n",
      "Best score in generation 19 : 0.993006993006993\n",
      "Best score in generation 20 : 0.993006993006993\n",
      "Best score in generation 21 : 0.993006993006993\n",
      "Best score in generation 22 : 0.993006993006993\n",
      "Best score in generation 23 : 0.993006993006993\n",
      "Best score in generation 24 : 0.993006993006993\n",
      "Best score in generation 25 : 0.993006993006993\n",
      "Best score in generation 26 : 0.993006993006993\n",
      "Best score in generation 27 : 0.993006993006993\n",
      "Best score in generation 28 : 0.993006993006993\n",
      "Best score in generation 29 : 0.993006993006993\n",
      "Best score in generation 30 : 0.993006993006993\n",
      "Best score in generation 31 : 0.993006993006993\n",
      "Best score in generation 32 : 0.993006993006993\n",
      "Best score in generation 33 : 0.993006993006993\n",
      "Best score in generation 34 : 0.993006993006993\n",
      "Best score in generation 35 : 0.993006993006993\n",
      "Best score in generation 36 : 0.993006993006993\n",
      "Best score in generation 37 : 0.993006993006993\n",
      "Best score in generation 38 : 0.993006993006993\n",
      "Best score in generation 39 : 0.993006993006993\n",
      "Best score in generation 40 : 0.993006993006993\n",
      "Best score in generation 41 : 0.993006993006993\n",
      "Best score in generation 42 : 0.993006993006993\n",
      "Best score in generation 43 : 0.993006993006993\n",
      "Best score in generation 44 : 0.993006993006993\n",
      "Best score in generation 45 : 0.993006993006993\n",
      "Best score in generation 46 : 0.993006993006993\n",
      "Best score in generation 47 : 0.993006993006993\n",
      "Best score in generation 48 : 0.993006993006993\n",
      "Best score in generation 49 : 0.993006993006993\n",
      "Best score in generation 50 : 0.993006993006993\n",
      "Best score in generation 51 : 0.993006993006993\n",
      "Best score in generation 52 : 0.993006993006993\n",
      "Best score in generation 53 : 0.993006993006993\n",
      "Best score in generation 54 : 0.993006993006993\n",
      "Best score in generation 55 : 0.993006993006993\n",
      "Best score in generation 56 : 0.993006993006993\n",
      "Best score in generation 57 : 0.993006993006993\n",
      "Best score in generation 58 : 0.993006993006993\n",
      "Best score in generation 59 : 0.993006993006993\n",
      "Best score in generation 60 : 0.993006993006993\n",
      "Best score in generation 61 : 0.993006993006993\n",
      "Best score in generation 62 : 0.993006993006993\n",
      "Best score in generation 63 : 0.993006993006993\n",
      "Best score in generation 64 : 0.993006993006993\n",
      "Best score in generation 65 : 0.993006993006993\n",
      "Best score in generation 66 : 0.993006993006993\n",
      "Best score in generation 67 : 0.993006993006993\n",
      "Best score in generation 68 : 0.993006993006993\n",
      "Best score in generation 69 : 0.993006993006993\n",
      "Best score in generation 70 : 0.993006993006993\n",
      "Best score in generation 71 : 0.993006993006993\n",
      "Best score in generation 72 : 0.993006993006993\n",
      "Best score in generation 73 : 0.993006993006993\n",
      "Best score in generation 74 : 0.993006993006993\n",
      "Best score in generation 75 : 0.993006993006993\n",
      "Best score in generation 76 : 0.993006993006993\n",
      "Best score in generation 77 : 0.993006993006993\n",
      "Best score in generation 78 : 0.993006993006993\n",
      "Best score in generation 79 : 0.993006993006993\n",
      "Best score in generation 80 : 0.993006993006993\n",
      "Best score in generation 81 : 0.993006993006993\n",
      "Best score in generation 82 : 0.993006993006993\n",
      "Best score in generation 83 : 0.993006993006993\n",
      "Best score in generation 84 : 0.993006993006993\n",
      "Best score in generation 85 : 0.993006993006993\n",
      "Best score in generation 86 : 0.993006993006993\n",
      "Best score in generation 87 : 0.993006993006993\n",
      "Best score in generation 88 : 0.993006993006993\n",
      "Best score in generation 89 : 0.993006993006993\n",
      "Best score in generation 90 : 0.993006993006993\n",
      "Best score in generation 91 : 0.993006993006993\n",
      "Best score in generation 92 : 0.993006993006993\n",
      "Best score in generation 93 : 0.993006993006993\n",
      "Best score in generation 94 : 0.993006993006993\n",
      "Best score in generation 95 : 0.993006993006993\n",
      "Best score in generation 96 : 0.993006993006993\n",
      "Best score in generation 97 : 0.993006993006993\n",
      "Best score in generation 98 : 0.993006993006993\n",
      "Best score in generation 99 : 0.993006993006993\n",
      "Best score in generation 100 : 0.993006993006993\n"
     ]
    }
   ],
   "source": [
    "logmodel = DecisionTreeClassifier(random_state=0)\n",
    "X_train,X_test, Y_train, Y_test = split(data_bc,label_bc)\n",
    "chromo_df_bc,score_bc=generations(data_bc,label_bc,size=80,n_feat=data_bc.shape[1],n_parents=64,mutation_rate=0.20,n_gen=100,\n",
    "                         X_train = X_train,X_test = X_test,Y_train = Y_train,Y_test = Y_test)"
   ],
   "metadata": {
    "collapsed": false
   }
  },
  {
   "cell_type": "code",
   "execution_count": 6,
   "outputs": [],
   "source": [
    "X_train = pd.read_csv(\"Data/Xtrain.csv\")\n",
    "X_test = pd.read_csv(\"Data/Xtest.csv\")\n",
    "Y_train = pd.read_csv(\"Data/Ytrain.csv\")\n",
    "Y_test = pd.read_csv(\"Data/Ytest.csv\")"
   ],
   "metadata": {
    "collapsed": false
   }
  },
  {
   "cell_type": "code",
   "execution_count": 7,
   "outputs": [],
   "source": [
    "data = pd.read_csv(\"Data/year_prediction.csv\")\n",
    "label = data['label']\n",
    "print(\"Million Songs dataset:\\n\",data.shape[0],\"Records\\n\",data.shape[1],\"Features\")\n",
    "score1 = acc_score(data,label)"
   ],
   "metadata": {
    "collapsed": false
   }
  },
  {
   "cell_type": "code",
   "execution_count": 8,
   "outputs": [],
   "source": [
    "from sklearn.decomposition import PCA\n",
    "from sklearn.preprocessing import StandardScaler"
   ],
   "metadata": {
    "collapsed": false
   }
  },
  {
   "cell_type": "code",
   "execution_count": 9,
   "outputs": [],
   "source": [
    "Year = pd.read_csv('Data/year_prediction.csv')"
   ],
   "metadata": {
    "collapsed": false
   }
  },
  {
   "cell_type": "code",
   "execution_count": 9,
   "outputs": [
    {
     "name": "stdout",
     "output_type": "stream",
     "text": [
      "90\n"
     ]
    },
    {
     "data": {
      "text/plain": "array([0.11509888, 0.07790812, 0.05908269, 0.04193843, 0.03750886,\n       0.02785143, 0.02359574, 0.0229876 , 0.02094579, 0.02017323,\n       0.01914213, 0.01860438, 0.01795661, 0.016911  , 0.0162782 ,\n       0.01587638, 0.01514974, 0.01416422, 0.01405834, 0.01350418,\n       0.01310675, 0.01260817, 0.01236738, 0.01179078, 0.01155292,\n       0.01146151, 0.01109524, 0.01095227, 0.01047827, 0.01008891,\n       0.00978087, 0.00944042, 0.00927768, 0.00894433, 0.00841613,\n       0.00818835, 0.00804267, 0.00801281, 0.00765976, 0.00750439,\n       0.00732581, 0.00719055, 0.00700093, 0.00680522, 0.00661245,\n       0.00633611, 0.00628686, 0.00615171, 0.00598   , 0.0058407 ,\n       0.0056721 , 0.00550313, 0.00536081, 0.00515497, 0.00501757,\n       0.00499076, 0.00485278, 0.004733  , 0.00460899, 0.00437104,\n       0.00424975, 0.0041122 , 0.00397558, 0.0039379 , 0.00371951,\n       0.00365515, 0.0035191 , 0.00337947, 0.00325692, 0.00317536,\n       0.00304071, 0.00291895, 0.00276109, 0.0027356 , 0.00262245,\n       0.00247248, 0.00228798, 0.00215149, 0.00208998, 0.00203666,\n       0.00187932, 0.00175877, 0.00155251, 0.0013926 , 0.00133413,\n       0.00126937, 0.00097341, 0.00092776, 0.00085901, 0.00065375])"
     },
     "execution_count": 9,
     "metadata": {},
     "output_type": "execute_result"
    }
   ],
   "source": [
    "scaler = StandardScaler()\n",
    "X = Year.drop('label',axis=1)\n",
    "y = Year['label']\n",
    "from sklearn.model_selection import train_test_split\n",
    "X_train, X_test, y_train, y_test = train_test_split(X,y,train_size=0.9,random_state=100)\n",
    "\n",
    "col = X_train.columns\n",
    "X_train = scaler.fit_transform(X_train)\n",
    "X_train = pd.DataFrame(X_train,columns=col)\n",
    "\n",
    "X_test = scaler.transform(X_test)\n",
    "X_test = pd.DataFrame(X_test,columns=col)\n",
    "\n",
    "pca = PCA(random_state=42)\n",
    "pca.fit(X_train)\n",
    "\n",
    "print(len(pca.explained_variance_ratio_))\n",
    "pca.explained_variance_ratio_"
   ],
   "metadata": {
    "collapsed": false
   }
  },
  {
   "cell_type": "code",
   "execution_count": 10,
   "outputs": [
    {
     "data": {
      "text/plain": "         C1        C2        C3        C4        C5        C6        C7   \n0 -1.172388 -0.741240 -0.277435  0.476964 -0.800808  0.409331 -0.386303  \\\n1 -3.608704 -1.310750  2.672325  0.949984 -0.805099  1.245864  0.807584   \n2 -4.160324 -0.874602  1.506378  0.947670  0.782556 -0.171693  0.640408   \n3  0.769099  3.817372 -1.903856  1.307942 -1.099492 -1.733354 -1.578549   \n4  2.275427 -0.494207 -1.036636 -1.753217  1.648471  2.993101 -2.067733   \n\n         C8        C9       C10  ...       C51       C52       C53       C54   \n0 -1.425066 -0.932369  0.923172  ... -0.602887 -0.639125 -0.367147 -0.677510  \\\n1 -0.216538  0.598077 -0.900713  ...  0.589711 -0.160923 -0.207978  0.536740   \n2  0.063011 -1.094823 -0.095630  ...  0.055905  0.312024  0.290411  0.127973   \n3 -2.684431 -1.024785  0.337267  ... -0.262676  0.390822  0.064231 -0.777954   \n4 -0.447315 -1.286245 -0.534801  ... -1.051183 -0.976042 -0.153428  0.366624   \n\n        C55       C56       C57       C58       C59       C60  \n0 -0.389927  1.141855 -0.092882  0.889122  0.238126 -0.058942  \n1  1.035313  0.720426 -0.686481 -1.907624 -0.071587 -0.065726  \n2  0.401990 -0.322713 -0.187898 -0.230951 -0.004757  0.222723  \n3  0.628404  0.379106 -0.232417  0.101876 -0.192402  0.248609  \n4 -0.359964 -0.405173 -1.669646 -0.696497  0.066673 -0.289318  \n\n[5 rows x 60 columns]",
      "text/html": "<div>\n<style scoped>\n    .dataframe tbody tr th:only-of-type {\n        vertical-align: middle;\n    }\n\n    .dataframe tbody tr th {\n        vertical-align: top;\n    }\n\n    .dataframe thead th {\n        text-align: right;\n    }\n</style>\n<table border=\"1\" class=\"dataframe\">\n  <thead>\n    <tr style=\"text-align: right;\">\n      <th></th>\n      <th>C1</th>\n      <th>C2</th>\n      <th>C3</th>\n      <th>C4</th>\n      <th>C5</th>\n      <th>C6</th>\n      <th>C7</th>\n      <th>C8</th>\n      <th>C9</th>\n      <th>C10</th>\n      <th>...</th>\n      <th>C51</th>\n      <th>C52</th>\n      <th>C53</th>\n      <th>C54</th>\n      <th>C55</th>\n      <th>C56</th>\n      <th>C57</th>\n      <th>C58</th>\n      <th>C59</th>\n      <th>C60</th>\n    </tr>\n  </thead>\n  <tbody>\n    <tr>\n      <th>0</th>\n      <td>-1.172388</td>\n      <td>-0.741240</td>\n      <td>-0.277435</td>\n      <td>0.476964</td>\n      <td>-0.800808</td>\n      <td>0.409331</td>\n      <td>-0.386303</td>\n      <td>-1.425066</td>\n      <td>-0.932369</td>\n      <td>0.923172</td>\n      <td>...</td>\n      <td>-0.602887</td>\n      <td>-0.639125</td>\n      <td>-0.367147</td>\n      <td>-0.677510</td>\n      <td>-0.389927</td>\n      <td>1.141855</td>\n      <td>-0.092882</td>\n      <td>0.889122</td>\n      <td>0.238126</td>\n      <td>-0.058942</td>\n    </tr>\n    <tr>\n      <th>1</th>\n      <td>-3.608704</td>\n      <td>-1.310750</td>\n      <td>2.672325</td>\n      <td>0.949984</td>\n      <td>-0.805099</td>\n      <td>1.245864</td>\n      <td>0.807584</td>\n      <td>-0.216538</td>\n      <td>0.598077</td>\n      <td>-0.900713</td>\n      <td>...</td>\n      <td>0.589711</td>\n      <td>-0.160923</td>\n      <td>-0.207978</td>\n      <td>0.536740</td>\n      <td>1.035313</td>\n      <td>0.720426</td>\n      <td>-0.686481</td>\n      <td>-1.907624</td>\n      <td>-0.071587</td>\n      <td>-0.065726</td>\n    </tr>\n    <tr>\n      <th>2</th>\n      <td>-4.160324</td>\n      <td>-0.874602</td>\n      <td>1.506378</td>\n      <td>0.947670</td>\n      <td>0.782556</td>\n      <td>-0.171693</td>\n      <td>0.640408</td>\n      <td>0.063011</td>\n      <td>-1.094823</td>\n      <td>-0.095630</td>\n      <td>...</td>\n      <td>0.055905</td>\n      <td>0.312024</td>\n      <td>0.290411</td>\n      <td>0.127973</td>\n      <td>0.401990</td>\n      <td>-0.322713</td>\n      <td>-0.187898</td>\n      <td>-0.230951</td>\n      <td>-0.004757</td>\n      <td>0.222723</td>\n    </tr>\n    <tr>\n      <th>3</th>\n      <td>0.769099</td>\n      <td>3.817372</td>\n      <td>-1.903856</td>\n      <td>1.307942</td>\n      <td>-1.099492</td>\n      <td>-1.733354</td>\n      <td>-1.578549</td>\n      <td>-2.684431</td>\n      <td>-1.024785</td>\n      <td>0.337267</td>\n      <td>...</td>\n      <td>-0.262676</td>\n      <td>0.390822</td>\n      <td>0.064231</td>\n      <td>-0.777954</td>\n      <td>0.628404</td>\n      <td>0.379106</td>\n      <td>-0.232417</td>\n      <td>0.101876</td>\n      <td>-0.192402</td>\n      <td>0.248609</td>\n    </tr>\n    <tr>\n      <th>4</th>\n      <td>2.275427</td>\n      <td>-0.494207</td>\n      <td>-1.036636</td>\n      <td>-1.753217</td>\n      <td>1.648471</td>\n      <td>2.993101</td>\n      <td>-2.067733</td>\n      <td>-0.447315</td>\n      <td>-1.286245</td>\n      <td>-0.534801</td>\n      <td>...</td>\n      <td>-1.051183</td>\n      <td>-0.976042</td>\n      <td>-0.153428</td>\n      <td>0.366624</td>\n      <td>-0.359964</td>\n      <td>-0.405173</td>\n      <td>-1.669646</td>\n      <td>-0.696497</td>\n      <td>0.066673</td>\n      <td>-0.289318</td>\n    </tr>\n  </tbody>\n</table>\n<p>5 rows × 60 columns</p>\n</div>"
     },
     "execution_count": 10,
     "metadata": {},
     "output_type": "execute_result"
    }
   ],
   "source": [
    "pca = PCA(n_components = 60)\n",
    "X_train = pca.fit_transform(X_train)\n",
    "X_test = pca.transform(X_test)\n",
    "col = ['C'+str(i) for i in range(1,61)]\n",
    "X_train = pd.DataFrame(X_train,columns=col)\n",
    "X_test = pd.DataFrame(X_test,columns=col)\n",
    "X_test.head()"
   ],
   "metadata": {
    "collapsed": false
   }
  },
  {
   "cell_type": "code",
   "execution_count": 11,
   "outputs": [
    {
     "name": "stdout",
     "output_type": "stream",
     "text": [
      "91\n"
     ]
    },
    {
     "data": {
      "text/plain": "array([0.11384196, 0.07722196, 0.05865936, 0.04155237, 0.03710999,\n       0.02778923, 0.02335032, 0.02293495, 0.02072541, 0.01998647,\n       0.0190138 , 0.01868783, 0.01798696, 0.01680205, 0.01617176,\n       0.01570191, 0.01498354, 0.01426762, 0.01392366, 0.01348102,\n       0.01306842, 0.01255977, 0.01224155, 0.01170776, 0.01152151,\n       0.01134001, 0.01110468, 0.01084872, 0.01037461, 0.01005532,\n       0.0098599 , 0.00967338, 0.00917677, 0.00892622, 0.00845293,\n       0.00827207, 0.00808512, 0.00793597, 0.00790757, 0.00756017,\n       0.00742179, 0.00719013, 0.00709918, 0.00690354, 0.00672136,\n       0.00653581, 0.00625751, 0.00621697, 0.00608369, 0.0059141 ,\n       0.00577645, 0.00560976, 0.00543653, 0.00528803, 0.00509445,\n       0.00494517, 0.00490422, 0.00478843, 0.00467447, 0.0045583 ,\n       0.00431396, 0.00419335, 0.00405916, 0.00393153, 0.00386074,\n       0.00365757, 0.00355558, 0.00338721, 0.00334162, 0.00321945,\n       0.00313649, 0.00300121, 0.00288684, 0.00272871, 0.00261359,\n       0.00252796, 0.00244531, 0.00223516, 0.00212291, 0.00205174,\n       0.00201294, 0.00185737, 0.00173101, 0.00152697, 0.00137388,\n       0.0013151 , 0.00125461, 0.00096246, 0.00091639, 0.00084947,\n       0.00064518])"
     },
     "execution_count": 11,
     "metadata": {},
     "output_type": "execute_result"
    }
   ],
   "source": [
    "#Repeating the process of PCA.\n",
    "X = Year\n",
    "y = Year.index\n",
    "from sklearn.model_selection import train_test_split\n",
    "X_train, X_test, Y_train, Y_test = train_test_split(X,y,train_size=0.9,random_state=100)\n",
    "\n",
    "col = X_train.columns\n",
    "X_train = scaler.fit_transform(X_train)\n",
    "X_train = pd.DataFrame(X_train,columns=col)\n",
    "\n",
    "X_test = scaler.transform(X_test)\n",
    "X_test = pd.DataFrame(X_test,columns=col)\n",
    "\n",
    "pca = PCA(random_state=42)\n",
    "pca.fit(X_train)\n",
    "PCA(random_state=42)\n",
    "print(len(pca.explained_variance_ratio_))\n",
    "pca.explained_variance_ratio_"
   ],
   "metadata": {
    "collapsed": false
   }
  },
  {
   "cell_type": "code",
   "execution_count": 12,
   "outputs": [
    {
     "data": {
      "text/plain": "array([[-3.77458655e+00, -1.41323333e+00,  1.79527734e+00, ...,\n        -5.40424516e-01, -1.69913786e-01, -5.14812946e-01],\n       [-2.93494438e+00, -2.91735308e-03,  1.39549337e+00, ...,\n        -2.05009711e-01, -6.59464952e-01,  2.58083763e-01],\n       [-8.63449923e-01,  1.72943667e+00, -6.69276186e-01, ...,\n         4.82769200e-01, -1.00674627e+00, -7.96614371e-01],\n       ...,\n       [-2.58981946e+00, -1.56939711e+00, -3.66440357e-01, ...,\n        -4.86620433e-01,  4.44698852e-01, -1.11587063e+00],\n       [ 5.42755969e+00,  4.77066739e+00,  2.95113071e+00, ...,\n        -9.09076477e-01, -5.07914982e-01, -6.96726038e-01],\n       [-2.20619187e+00,  1.71365093e+00,  1.66890261e-01, ...,\n         2.61616530e+00, -9.64454766e-01, -1.83615583e-01]])"
     },
     "execution_count": 12,
     "metadata": {},
     "output_type": "execute_result"
    }
   ],
   "source": [
    "pca = PCA(n_components = 30)\n",
    "X_train = pca.fit_transform(X_train)\n",
    "X_test = pca.transform(X_test)\n",
    "X_train"
   ],
   "metadata": {
    "collapsed": false
   }
  },
  {
   "cell_type": "code",
   "execution_count": 13,
   "outputs": [
    {
     "data": {
      "text/plain": "         C1        C2        C3        C4        C5        C6        C7   \n0 -1.180841 -0.786433 -0.327938  0.507773 -0.786850  0.468191 -0.272145  \\\n1 -3.615221 -1.324727  2.619940  1.013497 -0.780523  1.369917  0.790352   \n2 -4.167192 -0.897154  1.457899  0.996420  0.794048 -0.096546  0.603117   \n3  0.774913  3.817210 -1.915902  1.262655 -1.128943 -1.827640 -1.321795   \n4  2.270455 -0.529222 -1.062292 -1.712467  1.679097  2.997177 -1.951019   \n\n         C8        C9       C10  ...       C21       C22       C23       C24   \n0 -1.336588 -0.836484  1.059291  ... -0.134347  0.392284  0.171236 -0.646317  \\\n1 -0.006034  0.621302 -0.782228  ... -1.471658  1.510211 -0.812621  0.432861   \n2  0.204235 -1.069588 -0.018985  ...  0.508906 -0.674811  0.379356 -0.763699   \n3 -2.725236 -0.947193  0.481320  ... -0.015110 -0.070561  0.888992 -1.296927   \n4 -0.830726 -1.321091 -0.572157  ... -0.539062 -0.818449  1.484240 -0.075016   \n\n        C25       C26       C27       C28       C29       C30  \n0  0.137496  1.198852  0.692963 -1.092008 -0.378141 -1.307032  \n1  2.017201  1.156784  1.095542 -1.036161  0.188069  0.004265  \n2  0.156451  0.250146  0.329905 -0.347709  0.184154 -0.172047  \n3  0.616041  0.196477  0.614748 -0.500049  0.308264 -1.260430  \n4  0.166691  0.045292  0.273681  1.638964  0.109590 -1.551502  \n\n[5 rows x 30 columns]",
      "text/html": "<div>\n<style scoped>\n    .dataframe tbody tr th:only-of-type {\n        vertical-align: middle;\n    }\n\n    .dataframe tbody tr th {\n        vertical-align: top;\n    }\n\n    .dataframe thead th {\n        text-align: right;\n    }\n</style>\n<table border=\"1\" class=\"dataframe\">\n  <thead>\n    <tr style=\"text-align: right;\">\n      <th></th>\n      <th>C1</th>\n      <th>C2</th>\n      <th>C3</th>\n      <th>C4</th>\n      <th>C5</th>\n      <th>C6</th>\n      <th>C7</th>\n      <th>C8</th>\n      <th>C9</th>\n      <th>C10</th>\n      <th>...</th>\n      <th>C21</th>\n      <th>C22</th>\n      <th>C23</th>\n      <th>C24</th>\n      <th>C25</th>\n      <th>C26</th>\n      <th>C27</th>\n      <th>C28</th>\n      <th>C29</th>\n      <th>C30</th>\n    </tr>\n  </thead>\n  <tbody>\n    <tr>\n      <th>0</th>\n      <td>-1.180841</td>\n      <td>-0.786433</td>\n      <td>-0.327938</td>\n      <td>0.507773</td>\n      <td>-0.786850</td>\n      <td>0.468191</td>\n      <td>-0.272145</td>\n      <td>-1.336588</td>\n      <td>-0.836484</td>\n      <td>1.059291</td>\n      <td>...</td>\n      <td>-0.134347</td>\n      <td>0.392284</td>\n      <td>0.171236</td>\n      <td>-0.646317</td>\n      <td>0.137496</td>\n      <td>1.198852</td>\n      <td>0.692963</td>\n      <td>-1.092008</td>\n      <td>-0.378141</td>\n      <td>-1.307032</td>\n    </tr>\n    <tr>\n      <th>1</th>\n      <td>-3.615221</td>\n      <td>-1.324727</td>\n      <td>2.619940</td>\n      <td>1.013497</td>\n      <td>-0.780523</td>\n      <td>1.369917</td>\n      <td>0.790352</td>\n      <td>-0.006034</td>\n      <td>0.621302</td>\n      <td>-0.782228</td>\n      <td>...</td>\n      <td>-1.471658</td>\n      <td>1.510211</td>\n      <td>-0.812621</td>\n      <td>0.432861</td>\n      <td>2.017201</td>\n      <td>1.156784</td>\n      <td>1.095542</td>\n      <td>-1.036161</td>\n      <td>0.188069</td>\n      <td>0.004265</td>\n    </tr>\n    <tr>\n      <th>2</th>\n      <td>-4.167192</td>\n      <td>-0.897154</td>\n      <td>1.457899</td>\n      <td>0.996420</td>\n      <td>0.794048</td>\n      <td>-0.096546</td>\n      <td>0.603117</td>\n      <td>0.204235</td>\n      <td>-1.069588</td>\n      <td>-0.018985</td>\n      <td>...</td>\n      <td>0.508906</td>\n      <td>-0.674811</td>\n      <td>0.379356</td>\n      <td>-0.763699</td>\n      <td>0.156451</td>\n      <td>0.250146</td>\n      <td>0.329905</td>\n      <td>-0.347709</td>\n      <td>0.184154</td>\n      <td>-0.172047</td>\n    </tr>\n    <tr>\n      <th>3</th>\n      <td>0.774913</td>\n      <td>3.817210</td>\n      <td>-1.915902</td>\n      <td>1.262655</td>\n      <td>-1.128943</td>\n      <td>-1.827640</td>\n      <td>-1.321795</td>\n      <td>-2.725236</td>\n      <td>-0.947193</td>\n      <td>0.481320</td>\n      <td>...</td>\n      <td>-0.015110</td>\n      <td>-0.070561</td>\n      <td>0.888992</td>\n      <td>-1.296927</td>\n      <td>0.616041</td>\n      <td>0.196477</td>\n      <td>0.614748</td>\n      <td>-0.500049</td>\n      <td>0.308264</td>\n      <td>-1.260430</td>\n    </tr>\n    <tr>\n      <th>4</th>\n      <td>2.270455</td>\n      <td>-0.529222</td>\n      <td>-1.062292</td>\n      <td>-1.712467</td>\n      <td>1.679097</td>\n      <td>2.997177</td>\n      <td>-1.951019</td>\n      <td>-0.830726</td>\n      <td>-1.321091</td>\n      <td>-0.572157</td>\n      <td>...</td>\n      <td>-0.539062</td>\n      <td>-0.818449</td>\n      <td>1.484240</td>\n      <td>-0.075016</td>\n      <td>0.166691</td>\n      <td>0.045292</td>\n      <td>0.273681</td>\n      <td>1.638964</td>\n      <td>0.109590</td>\n      <td>-1.551502</td>\n    </tr>\n  </tbody>\n</table>\n<p>5 rows × 30 columns</p>\n</div>"
     },
     "execution_count": 13,
     "metadata": {},
     "output_type": "execute_result"
    }
   ],
   "source": [
    "col = ['C'+str(i) for i in range(1,31)]\n",
    "X_train = pd.DataFrame(X_train,columns=col)\n",
    "X_test = pd.DataFrame(X_test,columns=col)\n",
    "X_test.head()"
   ],
   "metadata": {
    "collapsed": false
   }
  },
  {
   "cell_type": "code",
   "execution_count": 14,
   "outputs": [
    {
     "name": "stdout",
     "output_type": "stream",
     "text": [
      "(463810, 30)\n",
      "(51535, 30)\n",
      "(463810,)\n",
      "(51535,)\n"
     ]
    }
   ],
   "source": [
    "print(X_train.shape)\n",
    "print(X_test.shape)\n",
    "print(Y_train.shape)\n",
    "print(Y_test.shape)"
   ],
   "metadata": {
    "collapsed": false
   }
  },
  {
   "cell_type": "code",
   "execution_count": null,
   "outputs": [],
   "source": [
    "from sklearn.tree import DecisionTreeClassifier\n",
    "dt = DecisionTreeClassifier()\n",
    "dt.fit(X_train, Y_train)\n",
    "Y_pred = dt.predict(X_test)\n",
    "from sklearn.metrics import accuracy_score, precision_score, recall_score, f1_score\n",
    "\n",
    "accuracy = accuracy_score(Y_test, Y_pred)\n",
    "precision = precision_score(Y_test, Y_pred)\n",
    "recall = recall_score(Y_test, Y_pred)\n",
    "f1 = f1_score(Y_test, Y_pred)\n",
    "\n",
    "print(\"Accuracy:\", accuracy)\n",
    "print(\"Precision:\", precision)\n",
    "print(\"Recall:\", recall)\n",
    "print(\"F1-score:\", f1)\n"
   ],
   "metadata": {
    "collapsed": false,
    "pycharm": {
     "is_executing": true
    }
   }
  },
  {
   "cell_type": "code",
   "execution_count": null,
   "outputs": [],
   "source": [
    "logmodel = DecisionTreeClassifier(random_state=0)\n",
    "chromo_df,score=generations(Year,Year.index,size=80,n_feat=30,n_parents=64,mutation_rate=0.20,n_gen=100,\n",
    "                         X_train = X_train,X_test = X_test,Y_train = Y_train,Y_test = Y_test)"
   ],
   "metadata": {
    "collapsed": false,
    "pycharm": {
     "is_executing": true
    }
   }
  },
  {
   "cell_type": "code",
   "execution_count": 10,
   "outputs": [],
   "source": [
    "Year = pd.read_csv('Data/year_prediction.csv')\n",
    "Year = Year.sample(frac=0.05, random_state=42)\n",
    "scaler = StandardScaler()\n",
    "X = Year.drop('label', axis=1)\n",
    "y = Year['label']\n",
    "from sklearn.model_selection import train_test_split\n",
    "\n",
    "X_train, X_test, y_train, y_test = train_test_split(X, y, train_size=0.9, random_state=100)\n",
    "\n",
    "col = X_train.columns\n",
    "X_train = scaler.fit_transform(X_train)\n",
    "X_train = pd.DataFrame(X_train, columns=col)\n",
    "\n",
    "X_test = scaler.transform(X_test)\n",
    "X_test = pd.DataFrame(X_test, columns=col)\n",
    "\n",
    "pca = PCA(random_state=42)\n",
    "pca.fit(X_train)\n",
    "\n",
    "pca.explained_variance_ratio_\n",
    "pca = PCA(n_components=60)\n",
    "X_train = pca.fit_transform(X_train)\n",
    "X_test = pca.transform(X_test)\n",
    "col = ['C' + str(i) for i in range(1, 61)]\n",
    "X_train = pd.DataFrame(X_train, columns=col)\n",
    "X_test = pd.DataFrame(X_test, columns=col)\n",
    "X_test.head()\n",
    "#Repeating the process of PCA.\n",
    "X = Year\n",
    "y = Year.index\n",
    "from sklearn.model_selection import train_test_split\n",
    "\n",
    "X_train, X_test, Y_train, Y_test = train_test_split(X, y, train_size=0.9, random_state=100)\n",
    "\n",
    "col = X_train.columns\n",
    "X_train = scaler.fit_transform(X_train)\n",
    "X_train = pd.DataFrame(X_train, columns=col)\n",
    "\n",
    "X_test = scaler.transform(X_test)\n",
    "X_test = pd.DataFrame(X_test, columns=col)\n",
    "\n",
    "pca = PCA(random_state=42)\n",
    "pca.fit(X_train)\n",
    "PCA(random_state=42)\n",
    "pca.explained_variance_ratio_\n",
    "pca = PCA(n_components=30)\n",
    "X_train = pca.fit_transform(X_train)\n",
    "X_test = pca.transform(X_test)\n",
    "X_train\n",
    "col = ['C' + str(i) for i in range(1, 31)]\n",
    "X_train = pd.DataFrame(X_train, columns=col)\n",
    "X_test = pd.DataFrame(X_test, columns=col)"
   ],
   "metadata": {
    "collapsed": false
   }
  },
  {
   "cell_type": "code",
   "execution_count": null,
   "outputs": [],
   "source": [
    "from sklearn.tree import DecisionTreeClassifier\n",
    "dt = DecisionTreeClassifier()\n",
    "dt.fit(X_train, Y_train)\n",
    "Y_pred = dt.predict(X_test)\n",
    "from sklearn.metrics import accuracy_score, precision_score, recall_score, f1_score\n",
    "\n",
    "accuracy = accuracy_score(Y_test, Y_pred)\n",
    "precision = precision_score(Y_test, Y_pred)\n",
    "recall = recall_score(Y_test, Y_pred)\n",
    "f1 = f1_score(Y_test, Y_pred)\n",
    "\n",
    "print(\"Accuracy:\", accuracy)\n",
    "print(\"Precision:\", precision)\n",
    "print(\"Recall:\", recall)\n",
    "print(\"F1-score:\", f1)"
   ],
   "metadata": {
    "collapsed": false,
    "pycharm": {
     "is_executing": true
    }
   }
  },
  {
   "cell_type": "code",
   "execution_count": null,
   "outputs": [],
   "source": [],
   "metadata": {
    "collapsed": false
   }
  }
 ],
 "metadata": {
  "kernelspec": {
   "display_name": "Python 3",
   "language": "python",
   "name": "python3"
  },
  "language_info": {
   "codemirror_mode": {
    "name": "ipython",
    "version": 2
   },
   "file_extension": ".py",
   "mimetype": "text/x-python",
   "name": "python",
   "nbconvert_exporter": "python",
   "pygments_lexer": "ipython2",
   "version": "2.7.6"
  }
 },
 "nbformat": 4,
 "nbformat_minor": 0
}

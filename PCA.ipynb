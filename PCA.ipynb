{
 "cells": [
  {
   "cell_type": "code",
   "execution_count": 1,
   "metadata": {
    "collapsed": true
   },
   "outputs": [],
   "source": [
    "\n",
    "from sklearn.ensemble import RandomForestClassifier\n",
    "from sklearn.metrics import confusion_matrix, f1_score, accuracy_score\n",
    "import pandas as pd\n",
    "import numpy as np\n",
    "from sklearn.model_selection import train_test_split\n",
    "from sklearn.preprocessing import StandardScaler\n",
    "from sklearn.decomposition import PCA"
   ]
  },
  {
   "cell_type": "code",
   "execution_count": 6,
   "outputs": [],
   "source": [
    "x_train = pd.read_csv(\"XTrain.csv\").to_numpy()\n",
    "y_train = pd.read_csv(\"YTrain.csv\").to_numpy()\n",
    "x_test = pd.read_csv(\"XTest.csv\").to_numpy()\n",
    "y_test = pd.read_csv(\"YTest.csv\").to_numpy()\n",
    "\n",
    "X = np.concatenate((x_train, x_test), axis=0)\n",
    "Y = np.concatenate((y_train, y_test), axis=0)"
   ],
   "metadata": {
    "collapsed": false
   }
  },
  {
   "cell_type": "code",
   "execution_count": 7,
   "outputs": [],
   "source": [
    "sc = StandardScaler()\n",
    "X_scaled = sc.fit_transform(X)\n",
    "pca = PCA(n_components=90)\n",
    "pca.fit(X_scaled)\n",
    "X_pca = pca.transform(X_scaled)\n",
    "\n",
    "n_comp = X_pca.shape[1]\n",
    "col_name = []\n",
    "for i in range(n_comp):\n",
    "    txt = \"component {index}\".format(index = i+1)\n",
    "    col_name.append(txt)\n",
    "\n",
    "X_df = pd.DataFrame(X_pca, columns=col_name)\n",
    "X_df.to_csv('X_pca.csv')\n",
    "Y_df = pd.DataFrame(Y, columns=['year'])\n",
    "Y_df.to_csv('Y_pca.csv')"
   ],
   "metadata": {
    "collapsed": false
   }
  },
  {
   "cell_type": "code",
   "execution_count": 8,
   "outputs": [
    {
     "name": "stderr",
     "output_type": "stream",
     "text": [
      "\n",
      "KeyboardInterrupt\n",
      "\n"
     ]
    }
   ],
   "source": [
    "model = RandomForestClassifier(n_estimators=90)\n",
    "\n",
    "\n",
    "xtrain, xtest, ytrain, ytest = train_test_split(X_pca, np.ravel(Y),\n",
    "                test_size=0.2,\n",
    "                shuffle=True)\n",
    "\n",
    "model.fit(xtrain, ytrain)\n",
    "prediction = model.predict(xtest)\n",
    "print(accuracy_score(ytest, prediction))\n",
    "print(np.square(np.subtract(ytest,prediction)).mean())\n"
   ],
   "metadata": {
    "collapsed": false
   }
  },
  {
   "cell_type": "code",
   "execution_count": null,
   "outputs": [],
   "source": [],
   "metadata": {
    "collapsed": false
   }
  }
 ],
 "metadata": {
  "kernelspec": {
   "display_name": "Python 3",
   "language": "python",
   "name": "python3"
  },
  "language_info": {
   "codemirror_mode": {
    "name": "ipython",
    "version": 2
   },
   "file_extension": ".py",
   "mimetype": "text/x-python",
   "name": "python",
   "nbconvert_exporter": "python",
   "pygments_lexer": "ipython2",
   "version": "2.7.6"
  }
 },
 "nbformat": 4,
 "nbformat_minor": 0
}

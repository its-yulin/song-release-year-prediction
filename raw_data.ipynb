{
 "cells": [
  {
   "cell_type": "code",
   "execution_count": 1,
   "outputs": [],
   "source": [
    "import numpy as np\n",
    "import pandas as pd\n",
    "import seaborn as sns\n",
    "import matplotlib.pyplot as plt\n",
    "from random import randint\n",
    "%matplotlib inline\n",
    "import warnings\n",
    "warnings.filterwarnings(\"ignore\")\n",
    "\n",
    "from sklearn.model_selection import train_test_split\n",
    "def split(df,label):\n",
    "    X_tr, X_te, Y_tr, Y_te = train_test_split(df, label, test_size=0.25, random_state=42)\n",
    "    return X_tr, X_te, Y_tr, Y_te\n",
    "\n",
    "from sklearn import svm\n",
    "from sklearn.linear_model import LogisticRegression\n",
    "from sklearn.ensemble import RandomForestClassifier, AdaBoostClassifier\n",
    "from sklearn.tree import DecisionTreeClassifier\n",
    "from sklearn.neighbors import KNeighborsClassifier\n",
    "from sklearn.ensemble import GradientBoostingClassifier\n",
    "from sklearn import metrics\n",
    "from sklearn.metrics import accuracy_score\n",
    "from sklearn.model_selection import KFold, cross_val_score\n",
    "\n",
    "\n",
    "classifiers = ['LinearSVM', 'RadialSVM',\n",
    "               'Logistic',  'RandomForest',\n",
    "               'AdaBoost',  'DecisionTree',\n",
    "               'KNeighbors','GradientBoosting']\n",
    "\n",
    "models = [svm.SVC(kernel='linear'),\n",
    "          svm.SVC(kernel='rbf'),\n",
    "          LogisticRegression(max_iter = 1000),\n",
    "          RandomForestClassifier(n_estimators=200, random_state=0),\n",
    "          AdaBoostClassifier(random_state = 0),\n",
    "          DecisionTreeClassifier(random_state=0),\n",
    "          KNeighborsClassifier(),\n",
    "          GradientBoostingClassifier(random_state=0)]\n",
    "models = [DecisionTreeClassifier(random_state=0)] #test dt\n",
    "def acc_score(df,label):\n",
    "    Score = pd.DataFrame({\"Classifier\":classifiers})\n",
    "    j = 0\n",
    "    acc = []\n",
    "    X_train,X_test,Y_train,Y_test = split(df,label)\n",
    "    for i in models:\n",
    "        model = i\n",
    "        model.fit(X_train,Y_train)\n",
    "        predictions = model.predict(X_test)\n",
    "        acc.append(accuracy_score(Y_test,predictions))\n",
    "        j = j+1\n",
    "    Score[\"Accuracy\"] = acc\n",
    "    Score.sort_values(by=\"Accuracy\", ascending=False,inplace = True)\n",
    "    Score.reset_index(drop=True, inplace=True)\n",
    "    return Score\n",
    "\n",
    "def plot(score,x,y,c = \"b\"):\n",
    "    gen = [1,2,3,4,5]\n",
    "    plt.figure(figsize=(6,4))\n",
    "    ax = sns.pointplot(x=gen, y=score,color = c )\n",
    "    ax.set(xlabel=\"Generation\", ylabel=\"Accuracy\")\n",
    "    ax.set(ylim=(x,y))"
   ],
   "metadata": {
    "collapsed": false
   }
  },
  {
   "cell_type": "code",
   "execution_count": 6,
   "outputs": [
    {
     "name": "stdout",
     "output_type": "stream",
     "text": [
      "Million Songs dataset:\n",
      " 515345 Records\n",
      " 91 Features\n"
     ]
    },
    {
     "data": {
      "text/plain": "        TimbreAvg1  TimbreAvg2  TimbreAvg3  TimbreAvg4  TimbreAvg5   \n344805    46.72446     1.63811    15.52340     5.44001   -12.53487  \\\n47185     38.95044   -51.71920   -16.70669    -3.93268   -47.14510   \n114857    42.47325    -6.61417    11.61492    17.45965   -29.36977   \n229191    49.45078    11.25745   -28.70570    23.59134   -21.05488   \n8984      29.38715   -79.89749   -20.21753   -37.64109     1.65140   \n\n        TimbreAvg6  TimbreAvg7  TimbreAvg8  TimbreAvg9  TimbreAvg10  ...   \n344805   -20.87806    15.68972     0.44114     2.88099      6.67246  ...  \\\n47185    -11.01559     0.79274    -6.04037     6.29335      3.26324  ...   \n114857     5.14118    14.13172     1.08882    -6.02492     -1.40739  ...   \n229191    -9.64330    12.48346     4.76093    12.31272      4.96743  ...   \n8984      -8.30884   -35.56293    -2.76853    13.69366      2.39183  ...   \n\n        TimbreCovariance69  TimbreCovariance70  TimbreCovariance71   \n344805             8.33728            34.92250            40.55711  \\\n47185              5.30243           379.98729             6.46793   \n114857            13.65661             5.78677           155.26019   \n229191             1.68643           -96.81343           -49.52479   \n8984              49.57819          -128.27870           106.92428   \n\n        TimbreCovariance72  TimbreCovariance73  TimbreCovariance74   \n344805            42.81626            32.00533            42.18771  \\\n47185            -38.87023             6.84054            53.92306   \n114857            14.50005            -9.66738            75.47961   \n229191           101.60061            -1.24172          -429.91278   \n8984             207.44927            -4.02840           112.90472   \n\n        TimbreCovariance75  TimbreCovariance76  TimbreCovariance77   \n344805           -45.87265            15.23572             4.17533  \\\n47185           -269.88405             5.43919           805.18355   \n114857           -25.41272             1.25913            48.33353   \n229191          -193.92097           -16.08426            71.61979   \n8984             508.30154            -2.19804           -24.77930   \n\n        TimbreCovariance78  \n344805             1.92635  \n47185             16.00642  \n114857            -9.03382  \n229191            -0.10543  \n8984              56.36819  \n\n[5 rows x 90 columns]",
      "text/html": "<div>\n<style scoped>\n    .dataframe tbody tr th:only-of-type {\n        vertical-align: middle;\n    }\n\n    .dataframe tbody tr th {\n        vertical-align: top;\n    }\n\n    .dataframe thead th {\n        text-align: right;\n    }\n</style>\n<table border=\"1\" class=\"dataframe\">\n  <thead>\n    <tr style=\"text-align: right;\">\n      <th></th>\n      <th>TimbreAvg1</th>\n      <th>TimbreAvg2</th>\n      <th>TimbreAvg3</th>\n      <th>TimbreAvg4</th>\n      <th>TimbreAvg5</th>\n      <th>TimbreAvg6</th>\n      <th>TimbreAvg7</th>\n      <th>TimbreAvg8</th>\n      <th>TimbreAvg9</th>\n      <th>TimbreAvg10</th>\n      <th>...</th>\n      <th>TimbreCovariance69</th>\n      <th>TimbreCovariance70</th>\n      <th>TimbreCovariance71</th>\n      <th>TimbreCovariance72</th>\n      <th>TimbreCovariance73</th>\n      <th>TimbreCovariance74</th>\n      <th>TimbreCovariance75</th>\n      <th>TimbreCovariance76</th>\n      <th>TimbreCovariance77</th>\n      <th>TimbreCovariance78</th>\n    </tr>\n  </thead>\n  <tbody>\n    <tr>\n      <th>344805</th>\n      <td>46.72446</td>\n      <td>1.63811</td>\n      <td>15.52340</td>\n      <td>5.44001</td>\n      <td>-12.53487</td>\n      <td>-20.87806</td>\n      <td>15.68972</td>\n      <td>0.44114</td>\n      <td>2.88099</td>\n      <td>6.67246</td>\n      <td>...</td>\n      <td>8.33728</td>\n      <td>34.92250</td>\n      <td>40.55711</td>\n      <td>42.81626</td>\n      <td>32.00533</td>\n      <td>42.18771</td>\n      <td>-45.87265</td>\n      <td>15.23572</td>\n      <td>4.17533</td>\n      <td>1.92635</td>\n    </tr>\n    <tr>\n      <th>47185</th>\n      <td>38.95044</td>\n      <td>-51.71920</td>\n      <td>-16.70669</td>\n      <td>-3.93268</td>\n      <td>-47.14510</td>\n      <td>-11.01559</td>\n      <td>0.79274</td>\n      <td>-6.04037</td>\n      <td>6.29335</td>\n      <td>3.26324</td>\n      <td>...</td>\n      <td>5.30243</td>\n      <td>379.98729</td>\n      <td>6.46793</td>\n      <td>-38.87023</td>\n      <td>6.84054</td>\n      <td>53.92306</td>\n      <td>-269.88405</td>\n      <td>5.43919</td>\n      <td>805.18355</td>\n      <td>16.00642</td>\n    </tr>\n    <tr>\n      <th>114857</th>\n      <td>42.47325</td>\n      <td>-6.61417</td>\n      <td>11.61492</td>\n      <td>17.45965</td>\n      <td>-29.36977</td>\n      <td>5.14118</td>\n      <td>14.13172</td>\n      <td>1.08882</td>\n      <td>-6.02492</td>\n      <td>-1.40739</td>\n      <td>...</td>\n      <td>13.65661</td>\n      <td>5.78677</td>\n      <td>155.26019</td>\n      <td>14.50005</td>\n      <td>-9.66738</td>\n      <td>75.47961</td>\n      <td>-25.41272</td>\n      <td>1.25913</td>\n      <td>48.33353</td>\n      <td>-9.03382</td>\n    </tr>\n    <tr>\n      <th>229191</th>\n      <td>49.45078</td>\n      <td>11.25745</td>\n      <td>-28.70570</td>\n      <td>23.59134</td>\n      <td>-21.05488</td>\n      <td>-9.64330</td>\n      <td>12.48346</td>\n      <td>4.76093</td>\n      <td>12.31272</td>\n      <td>4.96743</td>\n      <td>...</td>\n      <td>1.68643</td>\n      <td>-96.81343</td>\n      <td>-49.52479</td>\n      <td>101.60061</td>\n      <td>-1.24172</td>\n      <td>-429.91278</td>\n      <td>-193.92097</td>\n      <td>-16.08426</td>\n      <td>71.61979</td>\n      <td>-0.10543</td>\n    </tr>\n    <tr>\n      <th>8984</th>\n      <td>29.38715</td>\n      <td>-79.89749</td>\n      <td>-20.21753</td>\n      <td>-37.64109</td>\n      <td>1.65140</td>\n      <td>-8.30884</td>\n      <td>-35.56293</td>\n      <td>-2.76853</td>\n      <td>13.69366</td>\n      <td>2.39183</td>\n      <td>...</td>\n      <td>49.57819</td>\n      <td>-128.27870</td>\n      <td>106.92428</td>\n      <td>207.44927</td>\n      <td>-4.02840</td>\n      <td>112.90472</td>\n      <td>508.30154</td>\n      <td>-2.19804</td>\n      <td>-24.77930</td>\n      <td>56.36819</td>\n    </tr>\n  </tbody>\n</table>\n<p>5 rows × 90 columns</p>\n</div>"
     },
     "execution_count": 6,
     "metadata": {},
     "output_type": "execute_result"
    }
   ],
   "source": [
    "data = pd.read_csv(\"Data/year_prediction.csv\")\n",
    "label = data['label']\n",
    "print(\"Million Songs dataset:\\n\",data.shape[0],\"Records\\n\",data.shape[1],\"Features\")\n",
    "data = data.drop(columns=['label'])\n",
    "data.sample(5)"
   ],
   "metadata": {
    "collapsed": false
   }
  },
  {
   "cell_type": "code",
   "execution_count": 7,
   "outputs": [
    {
     "name": "stdout",
     "output_type": "stream",
     "text": [
      "Accuracy: 0.13188252529858638\n"
     ]
    }
   ],
   "source": [
    "# Split the data into training and testing sets\n",
    "X_train, X_test, y_train, y_test = train_test_split(data, label, test_size=0.2, random_state=42)\n",
    "# Create the random forest classifier\n",
    "rfc = RandomForestClassifier(n_estimators=100, random_state=42)\n",
    "# Fit the model on the training data\n",
    "rfc.fit(X_train, y_train)\n",
    "# Predict the labels of the testing data\n",
    "y_pred = rfc.predict(X_test)\n",
    "# Evaluate the accuracy of the model\n",
    "accuracy = rfc.score(X_test, y_test)\n",
    "print(\"Accuracy:\", accuracy)"
   ],
   "metadata": {
    "collapsed": false
   }
  },
  {
   "cell_type": "code",
   "execution_count": null,
   "outputs": [],
   "source": [],
   "metadata": {
    "collapsed": false
   }
  }
 ],
 "metadata": {
  "kernelspec": {
   "display_name": "Python 3",
   "language": "python",
   "name": "python3"
  },
  "language_info": {
   "codemirror_mode": {
    "name": "ipython",
    "version": 2
   },
   "file_extension": ".py",
   "mimetype": "text/x-python",
   "name": "python",
   "nbconvert_exporter": "python",
   "pygments_lexer": "ipython2",
   "version": "2.7.6"
  }
 },
 "nbformat": 4,
 "nbformat_minor": 0
}
